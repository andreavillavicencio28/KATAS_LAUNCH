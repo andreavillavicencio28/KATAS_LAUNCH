{
 "cells": [
  {
   "cell_type": "code",
   "execution_count": 3,
   "metadata": {},
   "outputs": [
    {
     "name": "stdout",
     "output_type": "stream",
     "text": [
      "['Venus']\n",
      "['Venus', 'Tierra']\n"
     ]
    }
   ],
   "source": [
    "new_planet=input('Ingresa el nombre de un planeta')\n",
    "Planetas=[]\n",
    "\n",
    "while new_planet.lower() != 'terminado':\n",
    "    if new_planet: \n",
    "        Planetas.append(new_planet)\n",
    "    new_planet = input('Ingresa un planeta nuevo o la palabra ¨terminado¨cuando hayas finalizado')\n",
    "\n",
    "    print(Planetas)"
   ]
  },
  {
   "cell_type": "code",
   "execution_count": 4,
   "metadata": {},
   "outputs": [
    {
     "name": "stdout",
     "output_type": "stream",
     "text": [
      "Venus\n",
      "Tierra\n"
     ]
    }
   ],
   "source": [
    "for planet in Planetas:\n",
    "    print(planet)"
   ]
  }
 ],
 "metadata": {
  "interpreter": {
   "hash": "d920be5f282d25f6786b1eddaf661e4e220c9272681c64ec64ecd794a188e83f"
  },
  "kernelspec": {
   "display_name": "Python 3.10.2 64-bit",
   "language": "python",
   "name": "python3"
  },
  "language_info": {
   "codemirror_mode": {
    "name": "ipython",
    "version": 3
   },
   "file_extension": ".py",
   "mimetype": "text/x-python",
   "name": "python",
   "nbconvert_exporter": "python",
   "pygments_lexer": "ipython3",
   "version": "3.10.2"
  },
  "orig_nbformat": 4
 },
 "nbformat": 4,
 "nbformat_minor": 2
}
