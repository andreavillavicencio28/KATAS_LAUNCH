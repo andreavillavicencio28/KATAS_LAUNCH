{
 "cells": [
  {
   "cell_type": "code",
   "execution_count": 3,
   "metadata": {},
   "outputs": [
    {
     "name": "stdout",
     "output_type": "stream",
     "text": [
      "17\n",
      "22\n"
     ]
    }
   ],
   "source": [
    "seconds = 1042\n",
    "display_minutes = 1042 // 60\n",
    "print(display_minutes)\n",
    "\n",
    "display_seconds = 1042 % 60\n",
    "\n",
    "print(display_seconds)"
   ]
  },
  {
   "cell_type": "code",
   "execution_count": 6,
   "metadata": {},
   "outputs": [
    {
     "name": "stdout",
     "output_type": "stream",
     "text": [
      "-390577533.93\n"
     ]
    }
   ],
   "source": [
    "Tierra=149597870 ##km \n",
    "Júpiter=778547200 ##km\n",
    "\n",
    "resta= (Tierra-Júpiter)*0.621\n",
    "print(resta)"
   ]
  },
  {
   "cell_type": "code",
   "execution_count": 7,
   "metadata": {},
   "outputs": [
    {
     "name": "stdout",
     "output_type": "stream",
     "text": [
      "238371796\n"
     ]
    }
   ],
   "source": [
    "Tierra=628949330\n",
    "Jupiter= 390577534\n",
    "\n",
    "resta=Tierra-Jupiter\n",
    "print(resta)"
   ]
  },
  {
   "cell_type": "code",
   "execution_count": 16,
   "metadata": {},
   "outputs": [
    {
     "name": "stdout",
     "output_type": "stream",
     "text": [
      "22\n"
     ]
    }
   ],
   "source": [
    "Distancia_1=int(input(\"Distancia del sol al plneta 1\"))\n",
    "print(Distancia_1)\n"
   ]
  },
  {
   "cell_type": "code",
   "execution_count": 17,
   "metadata": {},
   "outputs": [
    {
     "name": "stdout",
     "output_type": "stream",
     "text": [
      "55\n"
     ]
    }
   ],
   "source": [
    "Distancia_2=int(input(\"Distancia del sol al plneta 2\"))\n",
    "print(Distancia_2)"
   ]
  },
  {
   "cell_type": "code",
   "execution_count": 18,
   "metadata": {},
   "outputs": [
    {
     "name": "stdout",
     "output_type": "stream",
     "text": [
      "20.493\n"
     ]
    }
   ],
   "source": [
    "Distancia_entre_planetas=abs(Distancia_1-Distancia_2)\n",
    "print(Distancia_entre_planetas*0.621)"
   ]
  },
  {
   "cell_type": "code",
   "execution_count": 1,
   "metadata": {},
   "outputs": [
    {
     "name": "stdout",
     "output_type": "stream",
     "text": [
      "Mercurio\n"
     ]
    }
   ],
   "source": [
    "planeta= input('Ingresa el nombre de un planeta iniciando con mayuscula')\n",
    "print(planeta)\n",
    "\n",
    "planeta.index=planetas.index('mercurio')"
   ]
  }
 ],
 "metadata": {
  "interpreter": {
   "hash": "d920be5f282d25f6786b1eddaf661e4e220c9272681c64ec64ecd794a188e83f"
  },
  "kernelspec": {
   "display_name": "Python 3.10.2 64-bit",
   "language": "python",
   "name": "python3"
  },
  "language_info": {
   "codemirror_mode": {
    "name": "ipython",
    "version": 3
   },
   "file_extension": ".py",
   "mimetype": "text/x-python",
   "name": "python",
   "nbconvert_exporter": "python",
   "pygments_lexer": "ipython3",
   "version": "3.10.2"
  },
  "orig_nbformat": 4
 },
 "nbformat": 4,
 "nbformat_minor": 2
}
